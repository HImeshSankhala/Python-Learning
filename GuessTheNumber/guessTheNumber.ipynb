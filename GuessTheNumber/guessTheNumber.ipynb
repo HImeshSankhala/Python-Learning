{
 "cells": [
  {
   "cell_type": "markdown",
   "metadata": {},
   "source": [
    "   Explanation 1: If the User inputs range, let’s say from 1 to 100. And compiler randomly selected 42 as the integer. And now the guessing game started, so the user entered 50 as his/her first guess. The compiler shows “Try Again! You guessed too high”. That’s mean the random number (i.e., 42) doesn’t fall in the range from 50 to 100. That’s the importance of guessing half of the range. And again, the user guesses half of 50 (Could you tell me why?). So the half of 50 is 25. The user enters 25 as his/her second guess. This time compiler will show, “Try Again! You guessed too small”. That’s mean the integers less than 25 (from 1 to 25) are useless to be guessed. Now the range for user guessing is shorter, i.e., from 25 to 50. Intelligently! The user guessed half of this range, so that, user guessed 37 as his/her third guess.  This time again the compiler shows the output, “Try Again! You guessed too small”. For the user, the guessing range is getting smaller by each guess. Now, the guessing range for user is from 37 to 50, for which the user guessed 43 as his/her fourth guess. This time the compiler will show an output “Try Again! You guessed too high”. So, the new guessing range for users will be from 37 to 43, again for which the user guessed the half of this range, that is, 40 as his/her fifth guess.  This time the compiler shows the output, “Try Again! You guessed too small”. Leaving the guess even smaller such that from 41 to 43. And now the user guessed 41 as his/her sixth guess. Which is wrong and shows output “Try Again! You guessed too small”. And finally, the User Guessed the right number which is 42 as his/her seventh guess.\n",
    "\n",
    "          Total Number of Guesses = 7\n",
    "\n",
    "Explanation 2: If the User inputs range, let’s say from 1 to 50. And compiler randomly selected 42 as the integer. And now the guessing game started. So the half of 50 is 25. The user enters 25 as his/her First guess. This time compiler will show, “Try Again! You guessed too small”. That’s mean the integers less than 25 (from 1 to 25) are useless to be guessed. Now the range for user guessing is shorter, i.e., from 25 to 50. Intelligently! User guessed half of this range, so that, user guessed 37 as his/her second guess.  This time again the compiler shows the output, “Try Again! You guessed too small”. For the user, the guessing range is getting smaller by each guess. Now, the guessing range for user is from 37 to 50, for which the user guessed 43 as his/her third guess. This time the compiler will show an output “Try Again! You guessed too high”. So, the new guessing range for users will be from 37 to 43, again for which the user guessed the half of this range, that is, 40 as his/her fourth guess.  This time the compiler shows the output, “Try Again! You guessed too small”. Leaving the guess even smaller such that from 41 to 43. And now the user guessed 41 as his/her fifth guess. Which is wrong and shows output “Try Again! You guessed too small”. And finally, the User Guessed the right number which is 42 as his/her sixth guess.\n",
    "\n",
    "         Total Number of Guesses = 6\n",
    "\n",
    "So, the minimum number of guesses depends upon range. And the compiler must calculate the minimum number of guessing depends upon the range, on its own. For this, we have a formula:-\n",
    "\n",
    " Minimum number of guessing = log2(Upper bound – lower bound + 1)\n",
    "\n",
    " "
   ]
  },
  {
   "cell_type": "code",
   "execution_count": 8,
   "metadata": {},
   "outputs": [
    {
     "name": "stdout",
     "output_type": "stream",
     "text": [
      "\n",
      "\t You have only 4 chances to guess the integer \n",
      "\n",
      "you guessed too high!\n",
      "Congratulations you did it in 2 try\n"
     ]
    }
   ],
   "source": [
    "import random\n",
    "import math\n",
    "\n",
    "\n",
    "#Taking inputs\n",
    "lower = int(input(\"Enter lower bound:\"))\n",
    "upper = int (input(\"Enter upper bound:\"))\n",
    "\n",
    "#generating random number between the range\n",
    "x = random.randint(lower, upper)\n",
    "total_chances = math.ceil(math.log(upper - lower +1 , 2))\n",
    "print(\"\\n\\t You have only\", total_chances,\"chances to guess the integer \\n\")\n",
    "\n",
    "#Initializing the number of guesses\n",
    "count = 0 \n",
    "flag = False\n",
    "\n",
    "#for calculation of mininmum guesses depends on the range\n",
    "\n",
    "while count < total_chances:\n",
    "    count +=1\n",
    "\n",
    "    #taking guessing number as input\n",
    "    guess = int(input(f\"Guess the number (Attempt {count}): \"))\n",
    "\n",
    "    #Condition Testing\n",
    "    if x == guess:\n",
    "        print(\"Congratulations you did it in\", count,\"try\")\n",
    "\n",
    "        #Once guessed loop has to break\n",
    "        flag = True\n",
    "        break\n",
    "    elif x > guess:\n",
    "        print(\"You guessed too small!\")\n",
    "    elif x < guess: \n",
    "        print(\"you guessed too high!\")\n",
    "\n",
    "#If guessing is more than required guesses, then\n",
    "if not flag:\n",
    "    print(\"\\n The number is %d\" % x)\n",
    "    print(\"\\t Better Luck next time!\")             "
   ]
  },
  {
   "cell_type": "code",
   "execution_count": null,
   "metadata": {},
   "outputs": [],
   "source": []
  }
 ],
 "metadata": {
  "kernelspec": {
   "display_name": "Python 3",
   "language": "python",
   "name": "python3"
  },
  "language_info": {
   "codemirror_mode": {
    "name": "ipython",
    "version": 3
   },
   "file_extension": ".py",
   "mimetype": "text/x-python",
   "name": "python",
   "nbconvert_exporter": "python",
   "pygments_lexer": "ipython3",
   "version": "3.9.6"
  }
 },
 "nbformat": 4,
 "nbformat_minor": 2
}
