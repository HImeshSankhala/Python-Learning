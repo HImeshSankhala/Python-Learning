{
 "cells": [
  {
   "cell_type": "code",
   "execution_count": 3,
   "metadata": {},
   "outputs": [
    {
     "name": "stdout",
     "output_type": "stream",
     "text": [
      "3 3\n",
      "3 8\n",
      "3 9\n",
      "3 9\n"
     ]
    }
   ],
   "source": [
    "powers = [3, 8, 9, 7]\n",
    "\n",
    "minP, maxP = 0,0 \n",
    "\n",
    "for power in powers:\n",
    "    if minP == 0 and maxP ==0:\n",
    "        minP, maxP = powers[0], powers[0]\n",
    "        print(minP, maxP)\n",
    "    else:\n",
    "        minP= min(minP, power)\n",
    "        maxP= max(maxP, power)\n",
    "        print(minP, maxP)\n",
    "\n"
   ]
  },
  {
   "cell_type": "markdown",
   "metadata": {},
   "source": [
    "Time Complexity is O(N) with Space Complexity O(1)\n",
    "\n",
    "\n",
    "Time Complexity: O(N)\n",
    "Because the code iterates through the list exactly once, performing constant-time operations for each element.\n",
    "</br> Space Complexity: O(1)\n",
    "Because the code uses a fixed amount of extra space regardless of the input size."
   ]
  }
 ],
 "metadata": {
  "kernelspec": {
   "display_name": "Python 3",
   "language": "python",
   "name": "python3"
  },
  "language_info": {
   "codemirror_mode": {
    "name": "ipython",
    "version": 3
   },
   "file_extension": ".py",
   "mimetype": "text/x-python",
   "name": "python",
   "nbconvert_exporter": "python",
   "pygments_lexer": "ipython3",
   "version": "3.9.6"
  }
 },
 "nbformat": 4,
 "nbformat_minor": 2
}
