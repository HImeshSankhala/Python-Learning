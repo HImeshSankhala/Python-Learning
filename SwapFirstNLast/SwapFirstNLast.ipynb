{
 "cells": [
  {
   "cell_type": "markdown",
   "metadata": {},
   "source": [
    "# Python program to interchange first and last elements in a list"
   ]
  },
  {
   "cell_type": "markdown",
   "metadata": {},
   "source": [
    "Input : [12, 35, 9, 56, 24] Output : [24, 35, 9, 56, 12] "
   ]
  },
  {
   "cell_type": "markdown",
   "metadata": {},
   "source": [
    "Approach 1:  Find the length of the list and simply swap the first element with (n-1)th element."
   ]
  },
  {
   "cell_type": "code",
   "execution_count": 1,
   "metadata": {},
   "outputs": [
    {
     "name": "stdout",
     "output_type": "stream",
     "text": [
      "[24, 35, 9, 56, 12]\n"
     ]
    }
   ],
   "source": [
    "def swapList(newList):\n",
    "    size = len(newList)\n",
    "    \n",
    "    # Swapping \n",
    "    temp = newList[0]\n",
    "    newList[0] = newList[size - 1]\n",
    "    newList[size - 1] = temp\n",
    "    \n",
    "    return newList\n",
    "    \n",
    "# Driver code\n",
    "newList = [12, 35, 9, 56, 24]\n",
    "\n",
    "print(swapList(newList))"
   ]
  },
  {
   "cell_type": "markdown",
   "metadata": {},
   "source": [
    "Approach2: The last element of the list can be referred as list[-1]. Therefore, we can simply swap list[0] with list[-1]."
   ]
  },
  {
   "cell_type": "code",
   "execution_count": 2,
   "metadata": {},
   "outputs": [
    {
     "name": "stdout",
     "output_type": "stream",
     "text": [
      "[24, 35, 9, 56, 12]\n"
     ]
    }
   ],
   "source": [
    "def swapList(newList):\n",
    "    \n",
    "    newList[0], newList[-1] = newList[-1], newList[0]\n",
    "\n",
    "    return newList\n",
    "    \n",
    "# Driver code\n",
    "newList = [12, 35, 9, 56, 24]\n",
    "print(swapList(newList))"
   ]
  },
  {
   "cell_type": "markdown",
   "metadata": {},
   "source": [
    "Time Complexity: O(1)\n",
    "Auxiliary Space: O(n), where n is length of list"
   ]
  },
  {
   "cell_type": "markdown",
   "metadata": {},
   "source": [
    "Approach 3: Swap the first and last element is using tuple variable. Store the first and last element as a pair in a tuple variable, say get, and unpack those elements with first and last element in that list. Now, the First and last values in that list are swapped. "
   ]
  },
  {
   "cell_type": "code",
   "execution_count": 3,
   "metadata": {},
   "outputs": [
    {
     "name": "stdout",
     "output_type": "stream",
     "text": [
      "[24, 35, 9, 56, 12]\n"
     ]
    }
   ],
   "source": [
    "def swapList(list):\n",
    "    \n",
    "    # Storing the first and last element \n",
    "    # as a pair in a tuple variable get\n",
    "    get = list[-1], list[0]\n",
    "    \n",
    "    # unpacking those elements\n",
    "    list[0], list[-1] = get\n",
    "    \n",
    "    return list\n",
    "    \n",
    "# Driver code\n",
    "newList = [12, 35, 9, 56, 24]\n",
    "print(swapList(newList))"
   ]
  },
  {
   "cell_type": "markdown",
   "metadata": {},
   "source": [
    "Approach 4:  Using * operand. \n",
    "This operand proposes a change to iterable unpacking syntax, allowing to specify a “catch-all” name which will be assigned a list of all items not assigned to a “regular” name."
   ]
  },
  {
   "cell_type": "code",
   "execution_count": 4,
   "metadata": {},
   "outputs": [
    {
     "name": "stdout",
     "output_type": "stream",
     "text": [
      "[24, 35, 9, 56, 12]\n"
     ]
    }
   ],
   "source": [
    "def swapList(list):\n",
    "    \n",
    "    start, *middle, end = list\n",
    "    list = [end, *middle, start]\n",
    "    \n",
    "    return list\n",
    "    \n",
    "# Driver code\n",
    "newList = [12, 35, 9, 56, 24]\n",
    "\n",
    "print(swapList(newList))"
   ]
  },
  {
   "cell_type": "markdown",
   "metadata": {},
   "source": [
    "Approach 5: Swap the first and last elements is to use the inbuilt function list.pop(). Pop the first element and store it in a variable. Similarly, pop the last element and store it in another variable. Now insert the two popped element at each other’s original position. "
   ]
  },
  {
   "cell_type": "code",
   "execution_count": 5,
   "metadata": {},
   "outputs": [
    {
     "name": "stdout",
     "output_type": "stream",
     "text": [
      "[24, 35, 9, 56, 12]\n"
     ]
    }
   ],
   "source": [
    "def swapList(list):\n",
    "    \n",
    "    first = list.pop(0)   \n",
    "    last = list.pop(-1)\n",
    "    \n",
    "    list.insert(0, last)  \n",
    "    list.append(first)   \n",
    "    \n",
    "    return list\n",
    "    \n",
    "# Driver code\n",
    "newList = [12, 35, 9, 56, 24]\n",
    "\n",
    "print(swapList(newList))"
   ]
  },
  {
   "cell_type": "markdown",
   "metadata": {},
   "source": [
    "Approach 6: In this approach, we first check if the list has at least 2 elements.\n",
    "If the list has at least 2 elements, we swap the first and last elements using slicing by assigning the value of the last element to the first element and the value of the first element to the last element.\n",
    "We then slice the list from the second element to the second-to-last element and concatenate it with a list containing the first element and the last element in their new positions."
   ]
  },
  {
   "cell_type": "code",
   "execution_count": 6,
   "metadata": {},
   "outputs": [
    {
     "name": "stdout",
     "output_type": "stream",
     "text": [
      "The original input is: [12, 35, 9, 56, 24]\n",
      "The output after swap first and last is: [24, 35, 9, 56, 12]\n"
     ]
    }
   ],
   "source": [
    "def swap_first_last_3(lst):\n",
    "    # Check if list has at least 2 elements\n",
    "    if len(lst) >= 2:\n",
    "        # Swap the first and last elements using slicing\n",
    "        lst = lst[-1:] + lst[1:-1] + lst[:1]\n",
    "    return lst\n",
    "\n",
    "# Initializing the input\n",
    "inp=[12, 35, 9, 56, 24]\n",
    "\n",
    "# Printing the original input\n",
    "print(\"The original input is:\",inp)\n",
    "\n",
    "result=swap_first_last_3(inp)\n",
    "\n",
    "# Printing the result\n",
    "print(\"The output after swap first and last is:\",result)"
   ]
  },
  {
   "cell_type": "markdown",
   "metadata": {},
   "source": [
    "Time Complexity: O(1)\n",
    "Space Complexity: O(1)"
   ]
  },
  {
   "cell_type": "markdown",
   "metadata": {},
   "source": [
    "To swap characters in a string in Python, you can convert the string to a list, perform the swap, and then convert the list back to a string. Here’s how you can swap the first and last characters:"
   ]
  },
  {
   "cell_type": "code",
   "execution_count": 8,
   "metadata": {},
   "outputs": [
    {
     "name": "stdout",
     "output_type": "stream",
     "text": [
      "Original string: hello\n",
      "Updated string: oellh\n"
     ]
    }
   ],
   "source": [
    "my_string = \"hello\"# Convert string to list\n",
    "my_list = list(my_string)# Swap first and last characters\n",
    "my_list[0], my_list[-1] = my_list[-1], my_list[0]# Convert list back to string\n",
    "new_string = \"\".join(my_list)\n",
    "\n",
    "print(\"Original string:\",my_string)\n",
    "\n",
    "print(\"Updated string:\",new_string)"
   ]
  },
  {
   "cell_type": "code",
   "execution_count": null,
   "metadata": {},
   "outputs": [],
   "source": []
  }
 ],
 "metadata": {
  "kernelspec": {
   "display_name": "Python 3",
   "language": "python",
   "name": "python3"
  },
  "language_info": {
   "codemirror_mode": {
    "name": "ipython",
    "version": 3
   },
   "file_extension": ".py",
   "mimetype": "text/x-python",
   "name": "python",
   "nbconvert_exporter": "python",
   "pygments_lexer": "ipython3",
   "version": "3.9.6"
  }
 },
 "nbformat": 4,
 "nbformat_minor": 2
}
