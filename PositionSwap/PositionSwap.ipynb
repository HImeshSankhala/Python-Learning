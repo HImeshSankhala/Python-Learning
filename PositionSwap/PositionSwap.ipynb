{
 "cells": [
  {
   "cell_type": "markdown",
   "metadata": {},
   "source": [
    "# Program to Swap Two Elements in a List"
   ]
  },
  {
   "cell_type": "markdown",
   "metadata": {},
   "source": [
    "Approach 1: Swap Two Elements in a List using comma assignment "
   ]
  },
  {
   "cell_type": "code",
   "execution_count": 1,
   "metadata": {},
   "outputs": [
    {
     "name": "stdout",
     "output_type": "stream",
     "text": [
      "[19, 69, 23, 30, 45]\n"
     ]
    }
   ],
   "source": [
    "def SwapPosition(list, pos1, pos2):\n",
    "\n",
    "    list[pos1], list[pos2] = list[pos2], list[pos1]\n",
    "    return list\n",
    "\n",
    "List = [23, 69, 19, 30, 45]\n",
    "pos1, pos2 = 1, 3\n",
    "\n",
    "print(SwapPosition(List, pos1-1, pos2-1))"
   ]
  },
  {
   "cell_type": "markdown",
   "metadata": {},
   "source": [
    "Time Complexity: O(1), for using constant operations.\n",
    "Auxiliary Space: O(1), for using constant extra space."
   ]
  },
  {
   "cell_type": "markdown",
   "metadata": {},
   "source": [
    "Approach 2: Using Inbuilt list.pop() function to Swap Two Elements in a List\n",
    "\n",
    "Pop the element at pos1 and store it in a variable. Similarly, pop the element at pos2 and store it in another variable. Now insert the two popped element at each other’s original position. "
   ]
  },
  {
   "cell_type": "code",
   "execution_count": 2,
   "metadata": {},
   "outputs": [
    {
     "name": "stdout",
     "output_type": "stream",
     "text": [
      "[19, 69, 23, 30, 45]\n"
     ]
    }
   ],
   "source": [
    "def swapPosition(list,  pos1, pos2):\n",
    "\n",
    "    # pop the elements \n",
    "        first = list.pop(pos1)\n",
    "        second = list.pop(pos2)\n",
    "\n",
    "        list.insert(pos1,  second)\n",
    "        list.insert(pos2, first)\n",
    "\n",
    "        return list\n",
    "\n",
    "List = [23, 69, 19, 30, 45]\n",
    "pos1, pos2 = 1, 3\n",
    "\n",
    "print(SwapPosition(List, pos1-1, pos2-1))"
   ]
  },
  {
   "cell_type": "markdown",
   "metadata": {},
   "source": [
    "Time Complexity: O(1), for using constant operations.\n",
    "Auxiliary Space: O(1), for using constant extra space."
   ]
  },
  {
   "cell_type": "markdown",
   "metadata": {},
   "source": [
    "Approach 3:Swap Two Elements in a List Using tuple variable"
   ]
  },
  {
   "cell_type": "markdown",
   "metadata": {},
   "source": [
    "Store the element at pos1 and pos2 as a pair in a tuple variable, say get. Unpack those elements with pos2 and pos1 positions in that list. Now, both the positions in that list are swapped. "
   ]
  },
  {
   "cell_type": "code",
   "execution_count": 3,
   "metadata": {},
   "outputs": [
    {
     "name": "stdout",
     "output_type": "stream",
     "text": [
      "[23, 69, 19, 30, 45]\n"
     ]
    }
   ],
   "source": [
    "def Swapposition(list, pos1, pos2):\n",
    "    \n",
    "    #Storing two elements in tuple variable get\n",
    "    get = list[pos1], list[pos2]\n",
    "    #Unpacking them from the variable\n",
    "    list[pos1], list[pos2] = get\n",
    "\n",
    "    return list\n",
    "List = [23, 69, 19, 30, 45]\n",
    "pos1, pos2 = 1, 3\n",
    "\n",
    "print(Swapposition(List, pos1-1, pos2-1))\n"
   ]
  },
  {
   "cell_type": "markdown",
   "metadata": {},
   "source": [
    "Time Complexity: O(1), for using constant operations.\n",
    "Auxiliary Space: O(1), for using constant extra space."
   ]
  },
  {
   "cell_type": "markdown",
   "metadata": {},
   "source": [
    "Approach 4: Swap two elementsList using enumerate"
   ]
  },
  {
   "cell_type": "markdown",
   "metadata": {},
   "source": [
    "Another approach to swapping elements in a list is to use the enumerate function to get the index and value of each element in the list, and then use a loop to find the elements that need to be swapped and swap them."
   ]
  },
  {
   "cell_type": "code",
   "execution_count": 4,
   "metadata": {},
   "outputs": [
    {
     "name": "stdout",
     "output_type": "stream",
     "text": [
      "[19, 69, 23, 30, 45]\n"
     ]
    }
   ],
   "source": [
    "def Swap(lst, pos1, pos2):\n",
    "    for i, x in enumerate(lst):\n",
    "        if i == pos1:\n",
    "            elem1 = x\n",
    "        if i == pos2:\n",
    "            elem2 = x\n",
    "    lst[pos1] = elem2\n",
    "    lst[pos2] = elem1\n",
    "    \n",
    "    return lst\n",
    "List = [23, 69, 19, 30, 45]\n",
    "pos1, pos2 = 1, 3\n",
    "\n",
    "print(Swap(List, pos1-1, pos2-1))\n"
   ]
  },
  {
   "cell_type": "markdown",
   "metadata": {},
   "source": [
    "This approach has a time complexity of O(n), since it involves looping through the entire list to find the elements to be swapped. The space complexity is O(1), since it only uses a constant amount of additional space to store the elements to be swapped."
   ]
  },
  {
   "cell_type": "markdown",
   "metadata": {},
   "source": [
    "The improved version of above: "
   ]
  },
  {
   "cell_type": "code",
   "execution_count": 5,
   "metadata": {},
   "outputs": [
    {
     "name": "stdout",
     "output_type": "stream",
     "text": [
      "[19, 69, 23, 30, 45]\n"
     ]
    }
   ],
   "source": [
    "def swapPositions(lis, pos1, pos2):\n",
    "    elem1, elem2 = None, None\n",
    "    for i in range(len(lis)):\n",
    "        if i == pos1:\n",
    "            elem1 = lis[i]\n",
    "        if i == pos2:\n",
    "            elem2 = lis[i]\n",
    "        if elem1 is not None and elem2 is not None:\n",
    "            break\n",
    "    \n",
    "    lis[pos1], lis[pos2] = elem2, elem1\n",
    "    return lis\n",
    "\n",
    "List = [23, 69, 19, 30, 45]\n",
    "pos1, pos2 = 1, 3\n",
    "\n",
    "print(Swap(List, pos1-1, pos2-1))"
   ]
  },
  {
   "cell_type": "markdown",
   "metadata": {},
   "source": [
    "Both methods have the same worst-case time complexity of 𝑂(𝑛)and space complexity of O(1). However, the improved method can be more efficient in practice because it may exit the loop early, reducing the number of iterations in many cases. This results in better average-case performance, especially when the positions to be swapped are near the beginning of the list."
   ]
  }
 ],
 "metadata": {
  "kernelspec": {
   "display_name": "Python 3",
   "language": "python",
   "name": "python3"
  },
  "language_info": {
   "codemirror_mode": {
    "name": "ipython",
    "version": 3
   },
   "file_extension": ".py",
   "mimetype": "text/x-python",
   "name": "python",
   "nbconvert_exporter": "python",
   "pygments_lexer": "ipython3",
   "version": "3.9.6"
  }
 },
 "nbformat": 4,
 "nbformat_minor": 2
}
